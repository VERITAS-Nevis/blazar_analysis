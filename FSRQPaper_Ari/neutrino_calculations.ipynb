{
 "cells": [
  {
   "cell_type": "code",
   "execution_count": 1,
   "metadata": {},
   "outputs": [],
   "source": [
    "import astropy.constants as const\n",
    "from astropy.cosmology import FlatLambdaCDM\n",
    "import astropy.units as u\n",
    "\n",
    "import math"
   ]
  },
  {
   "cell_type": "code",
   "execution_count": 2,
   "metadata": {},
   "outputs": [],
   "source": [
    "E_nu_ob = 1*u.PeV\n",
    "K_p_gamma = 0.2\n",
    "K_pi_e = 1/8\n",
    "K_nu = 0.05\n",
    "E_p_gamma_thresh = 0.3*u.GeV\n",
    "B_crit = 4.41e13*u.gauss\n",
    "r_m = (const.m_e / const.m_p).to(u.dimensionless_unscaled)\n",
    "cross_section_p_gamma = 5e-28*u.cm**2"
   ]
  },
  {
   "cell_type": "code",
   "execution_count": 3,
   "metadata": {},
   "outputs": [],
   "source": [
    "class Beam:\n",
    "    \n",
    "    def __init__(self, doppler_factor, theta, z):\n",
    "        self.gamma = self.lorentz_factor(doppler_factor, theta)\n",
    "        self.doppler = doppler_factor\n",
    "        self.theta = theta\n",
    "        self.z = z\n",
    "        self.cosmo = FlatLambdaCDM(H0=69*(u.km/u.s/u.Mpc), Tcmb0=2.725*u.K, Om0=0.286)\n",
    "        \n",
    "    @staticmethod\n",
    "    def lorentz_factor(doppler_factor, theta):\n",
    "        theta = math.radians(theta)\n",
    "        numerator = 1 - math.cos(theta)*math.sqrt(1 - (doppler_factor*math.sin(theta))**2)\n",
    "        denominator = doppler_factor * math.sin(theta)**2\n",
    "        return numerator / denominator\n",
    "        \n",
    "    def duration_to_comoving(self, duration):\n",
    "        return duration * self.doppler / (1 + self.z)\n",
    "    \n",
    "    def energy_to_comoving(self, energy):\n",
    "        return energy * (1 + self.z) / self.gamma\n",
    "    \n",
    "    def energy_to_observer(self, energy):\n",
    "        return energy * self.gamma / (1 + self.z)\n",
    "    \n",
    "    def luminosity_distance(self):\n",
    "        return self.cosmo.luminosity_distance(z)"
   ]
  },
  {
   "cell_type": "code",
   "execution_count": 4,
   "metadata": {},
   "outputs": [],
   "source": [
    "beam_pks = Beam(40, 1, 0.432)\n",
    "B_pks = 3e-2*u.gauss\n",
    "R_pks = 5.5e16*u.cm\n",
    "t_var_pks = 9*u.day\n",
    "\n",
    "beam_ton = Beam(53, 1, 0.725)\n",
    "B_ton = 3e-2*u.gauss\n",
    "R_ton = 6e16*u.cm\n",
    "t_var_ton = 2*u.day"
   ]
  },
  {
   "cell_type": "code",
   "execution_count": 5,
   "metadata": {},
   "outputs": [
    {
     "name": "stdout",
     "output_type": "stream",
     "text": [
      "PKS 1222+216\n",
      "    R = 5.5e+16 cm\n",
      "Rest frame proton energy: 495 PeV\n",
      "Observer frame neutrino energy: 403 PeV\n",
      "    t_var = 9.0 d (R = 6.5e+17 cm)\n",
      "Rest frame proton energy: 5856 PeV\n",
      "Observer frame neutrino energy: 4768 PeV\n",
      "\n",
      "Ton 599\n",
      "    R = 6e+16 cm\n",
      "Rest frame proton energy: 540 PeV\n",
      "Observer frame neutrino energy: 601 PeV\n",
      "    t_var = 2.0 d (R = 1.6e+17 cm)\n",
      "Rest frame proton energy: 1432 PeV\n",
      "Observer frame neutrino energy: 1594 PeV\n"
     ]
    }
   ],
   "source": [
    "# Calculate Hillas criterion\n",
    "\n",
    "def hillas_criterion(beam, B, t_var=None, R=None):\n",
    "    Z = 1\n",
    "    beta = 1\n",
    "    if R is None and t_var is not None:\n",
    "        t_var_R = (const.c * beam.duration_to_comoving(t_var)).to(u.cm)\n",
    "        print(\"    t_var = {} (R = {:.02})\".format(t_var, t_var_R))\n",
    "        L = const.c * beam.duration_to_comoving(t_var)\n",
    "    elif t_var is None and R is not None:\n",
    "        print(\"    R = {}\".format(R))\n",
    "        L = R\n",
    "    else:\n",
    "        raise ValueError(\"Exactly one of R and t_var must be specified\")\n",
    "    E_max = Z * const.e.si * beta * const.c * B * L\n",
    "    print(\"Rest frame proton energy: {:.0f}\".format(E_max.to(u.PeV)))\n",
    "    E_nu = 0.05*beam.energy_to_observer(E_max)\n",
    "    print(\"Observer frame neutrino energy: {:.0f}\".format(E_nu.to(u.PeV)))\n",
    "\n",
    "\n",
    "print(\"PKS 1222+216\")\n",
    "hillas_criterion(beam_pks, B_pks, R=R_pks)\n",
    "hillas_criterion(beam_pks, B_pks, t_var=t_var_pks)\n",
    "print(\"\\nTon 599\")\n",
    "hillas_criterion(beam_ton, B_ton, R=R_ton)\n",
    "hillas_criterion(beam_ton, B_ton, t_var=t_var_ton)"
   ]
  },
  {
   "cell_type": "code",
   "execution_count": 6,
   "metadata": {},
   "outputs": [
    {
     "data": {
      "text/latex": [
       "$1.2328191 \\times 10^{22} \\; \\mathrm{Hz}$"
      ],
      "text/plain": [
       "<Quantity 1.2328191e+22 Hz>"
      ]
     },
     "execution_count": 6,
     "metadata": {},
     "output_type": "execute_result"
    }
   ],
   "source": [
    "# Calculate synchrotron peak energy\n",
    "constants = const.c*const.e.si*(K_p_gamma * K_pi_e)**2 / (2*math.pi) / (const.m_e*const.c**2)**3\n",
    "variables = (1.5)**-1 * 23 * 3e-2*u.gauss * (2*u.PeV)**2\n",
    "(constants*variables).to(u.Hz, equivalencies=u.spectral())"
   ]
  },
  {
   "cell_type": "code",
   "execution_count": 7,
   "metadata": {},
   "outputs": [
    {
     "name": "stdout",
     "output_type": "stream",
     "text": [
      "L = 1.02 L_Edd\n"
     ]
    }
   ],
   "source": [
    "# Calculate proton luminosity parameterized by the Eddington luminosity\n",
    "constants = 0.1*16/27/K_p_gamma/K_pi_e/const.G*const.c**2*const.sigma_T/cross_section_p_gamma*E_p_gamma_thresh\n",
    "variables = 23**2 * 6e16*u.cm / (5e10*const.M_sun) / (2*u.PeV) * 0.5\n",
    "print(\"L = {:.03} L_Edd\".format((constants * variables).to(u.dimensionless_unscaled)))"
   ]
  },
  {
   "cell_type": "code",
   "execution_count": 8,
   "metadata": {},
   "outputs": [
    {
     "data": {
      "text/latex": [
       "$0.0012417067 \\; \\mathrm{}$"
      ],
      "text/plain": [
       "<Quantity 0.00124171>"
      ]
     },
     "execution_count": 8,
     "metadata": {},
     "output_type": "execute_result"
    }
   ],
   "source": [
    "# Calculate the expected number of neutrinos\n",
    "def neutrino_count(nu_fnu_peak, duration):\n",
    "    # Keivani et al. (2018), Eq.4\n",
    "    effective_area = 1e6*u.cm**2\n",
    "    \n",
    "    count = 2 * nu_fnu_peak / E_nu_ob * math.log(10) * duration * effective_area\n",
    "    return count.to(u.dimensionless_unscaled)\n",
    "\n",
    "neutrino_count(1e-12*u.erg*u.cm**-2*u.s**-1, 5*u.day)"
   ]
  },
  {
   "cell_type": "code",
   "execution_count": null,
   "metadata": {},
   "outputs": [],
   "source": []
  }
 ],
 "metadata": {
  "kernelspec": {
   "display_name": "Python 3",
   "language": "python",
   "name": "python3"
  },
  "language_info": {
   "codemirror_mode": {
    "name": "ipython",
    "version": 3
   },
   "file_extension": ".py",
   "mimetype": "text/x-python",
   "name": "python",
   "nbconvert_exporter": "python",
   "pygments_lexer": "ipython3",
   "version": "3.8.5"
  }
 },
 "nbformat": 4,
 "nbformat_minor": 4
}
